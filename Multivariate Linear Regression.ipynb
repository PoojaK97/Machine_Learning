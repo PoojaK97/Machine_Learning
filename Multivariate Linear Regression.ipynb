{
 "cells": [
  {
   "cell_type": "markdown",
   "metadata": {},
   "source": [
    "# Importing Packages"
   ]
  },
  {
   "cell_type": "code",
   "execution_count": 1,
   "metadata": {},
   "outputs": [],
   "source": [
    "import numpy as np                                               #support for multi-dimensional arrays or matrices\n",
    "import pandas as pd                                              \n",
    "from math import sqrt                                            \n",
    "import matplotlib.pyplot as plt                                  \n",
    "from sklearn.linear_model import LinearRegression                \n",
    "from sklearn.model_selection import train_test_split             \n",
    "from sklearn.metrics import mean_squared_error                   "
   ]
  },
  {
   "cell_type": "markdown",
   "metadata": {},
   "source": [
    "# Reading and Manipulating data"
   ]
  },
  {
   "cell_type": "code",
   "execution_count": 2,
   "metadata": {},
   "outputs": [],
   "source": [
    "data = pd.read_csv(\"energydata_complete.csv\")\n",
    "data = data.drop([\"date\",\"rv1\",\"rv2\",\"lights\"], axis=1)"
   ]
  },
  {
   "cell_type": "markdown",
   "metadata": {},
   "source": [
    "# Splitting data into test and train"
   ]
  },
  {
   "cell_type": "code",
   "execution_count": 3,
   "metadata": {},
   "outputs": [],
   "source": [
    "train, test = train_test_split(data, test_size=0.25, random_state=0)\n",
    "\n",
    "train_X = train.drop(\"Appliances\", axis=1)\n",
    "train_Y = train[\"Appliances\"]\n",
    "\n",
    "test_X = test.drop(\"Appliances\", axis=1)\n",
    "test_Y = test[\"Appliances\"]"
   ]
  },
  {
   "cell_type": "markdown",
   "metadata": {},
   "source": [
    "# Training data"
   ]
  },
  {
   "cell_type": "code",
   "execution_count": 4,
   "metadata": {},
   "outputs": [
    {
     "name": "stdout",
     "output_type": "stream",
     "text": [
      "[  0.77689933  15.73773644 -18.74873005 -13.8907279   26.20378104\n",
      "   5.18420629   1.27475863   1.42128336   0.61680519   0.23159407\n",
      "   7.34611113   0.33813314   1.52338849  -1.53505008   9.55452905\n",
      "  -6.23917282 -22.9622048   -1.57895237 -10.57159829   0.20347095\n",
      "  -0.90678546   2.05187632   0.1954646    5.45302315]\n"
     ]
    }
   ],
   "source": [
    "model = LinearRegression()\n",
    "model.fit(train_X, train_Y)\n",
    "\n",
    "print (model.coef_)"
   ]
  },
  {
   "cell_type": "markdown",
   "metadata": {},
   "source": [
    "# Predicting and Plotting"
   ]
  },
  {
   "cell_type": "code",
   "execution_count": 5,
   "metadata": {},
   "outputs": [
    {
     "data": {
      "image/png": "[encoded data removed]",
      "text/plain": [
       "<Figure size 720x576 with 1 Axes>"
      ]
     },
     "metadata": {
      "needs_background": "light"
     },
     "output_type": "display_data"
    }
   ],
   "source": [
    "df_res = pd.DataFrame({'Actual': test_Y, 'Predicted': model.predict(test_X)})\n",
    "df_res1 = df_res.head(10)\n",
    "\n",
    "df_res1.plot (kind='bar',figsize=(10,8))\n",
    "plt.grid(which='major', linestyle='-', linewidth='0.5', color='green')\n",
    "plt.grid(which='minor', linestyle=':', linewidth='0.5', color='black')\n",
    "plt.show()"
   ]
  },
  {
   "cell_type": "markdown",
   "metadata": {},
   "source": [
    "# Using metrics for evaluation"
   ]
  },
  {
   "cell_type": "code",
   "execution_count": 6,
   "metadata": {},
   "outputs": [
    {
     "name": "stdout",
     "output_type": "stream",
     "text": [
      "0.12955383889207084\n",
      "99.06010150032678\n"
     ]
    }
   ],
   "source": [
    "print (model.score(test_X, test_Y))\n",
    "rmse = sqrt(mean_squared_error(test_Y,model.predict(test_X)))\n",
    "print (rmse)"
   ]
  },
  {
   "cell_type": "code",
   "execution_count": null,
   "metadata": {},
   "outputs": [],
   "source": []
  }
 ],
 "metadata": {
  "kernelspec": {
   "display_name": "Python 3",
   "language": "python",
   "name": "python3"
  },
  "language_info": {
   "codemirror_mode": {
    "name": "ipython",
    "version": 3
   },
   "file_extension": ".py",
   "mimetype": "text/x-python",
   "name": "python",
   "nbconvert_exporter": "python",
   "pygments_lexer": "ipython3",
   "version": "3.7.4"
  }
 },
 "nbformat": 4,
 "nbformat_minor": 2
}
