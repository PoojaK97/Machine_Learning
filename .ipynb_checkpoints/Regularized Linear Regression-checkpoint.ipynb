{
 "cells": [
  {
   "cell_type": "markdown",
   "metadata": {},
   "source": [
    "## Importing Packages"
   ]
  },
  {
   "cell_type": "code",
   "execution_count": 1,
   "metadata": {},
   "outputs": [],
   "source": [
    "import numpy as np\n",
    "import pandas as pd                                              \n",
    "from math import sqrt                                            \n",
    "import matplotlib.pyplot as plt                                  \n",
    "from sklearn.linear_model import Ridge           #Ridge Model \n",
    "from sklearn.linear_model import Lasso           #Lasso Model \n",
    "from sklearn.linear_model import ElasticNet      #ElasticNet Model \n",
    "from sklearn.model_selection import train_test_split             \n",
    "from sklearn.metrics import mean_squared_error                   "
   ]
  },
  {
   "cell_type": "markdown",
   "metadata": {},
   "source": [
    "## Reading and Manipulating data"
   ]
  },
  {
   "cell_type": "code",
   "execution_count": 2,
   "metadata": {},
   "outputs": [],
   "source": [
    "data = pd.read_csv(\"energydata_complete.csv\")\n",
    "data = data.drop([\"date\",\"rv1\",\"rv2\",\"lights\"], axis=1)"
   ]
  },
  {
   "cell_type": "markdown",
   "metadata": {},
   "source": [
    "## Splitting data into test and train"
   ]
  },
  {
   "cell_type": "code",
   "execution_count": 3,
   "metadata": {},
   "outputs": [],
   "source": [
    "train, test = train_test_split(data, test_size=0.25, random_state=0)\n",
    "\n",
    "train_X = train.drop(\"Appliances\", axis=1)\n",
    "train_Y = train[\"Appliances\"]\n",
    "\n",
    "test_X = test.drop(\"Appliances\", axis=1)\n",
    "test_Y = test[\"Appliances\"]"
   ]
  },
  {
   "cell_type": "markdown",
   "metadata": {},
   "source": [
    "# RIDGE REGRESSION"
   ]
  },
  {
   "cell_type": "markdown",
   "metadata": {},
   "source": [
    "## Training data"
   ]
  },
  {
   "cell_type": "code",
   "execution_count": 4,
   "metadata": {},
   "outputs": [
    {
     "name": "stdout",
     "output_type": "stream",
     "text": [
      "[  0.77425912  15.73500584 -18.7384485  -13.88610146  26.19830735\n",
      "   5.18403918   1.27253256   1.42042644   0.61353529   0.23163797\n",
      "   7.34352093   0.3380578    1.51961373  -1.53486876   9.55276849\n",
      "  -6.23899041 -22.95138245  -1.57934574 -10.56424971   0.20351437\n",
      "  -0.90574929   2.0521784    0.19544768   5.44691582]\n"
     ]
    }
   ],
   "source": [
    "model = Ridge()\n",
    "model.fit(train_X, train_Y)\n",
    "\n",
    "print (model.coef_)"
   ]
  },
  {
   "cell_type": "markdown",
   "metadata": {},
   "source": [
    "## Predicting and Plotting"
   ]
  },
  {
   "cell_type": "code",
   "execution_count": 5,
   "metadata": {},
   "outputs": [
    {
     "data": {
      "image/png": "[encoded data removed]",
      "text/plain": [
       "<Figure size 720x576 with 1 Axes>"
      ]
     },
     "metadata": {
      "needs_background": "light"
     },
     "output_type": "display_data"
    }
   ],
   "source": [
    "df_res = pd.DataFrame({'Actual': test_Y, 'Predicted': model.predict(test_X)})\n",
    "df_res1 = df_res.head(10)\n",
    "\n",
    "df_res1.plot (kind='bar',figsize=(10,8))\n",
    "plt.grid(which='major', linestyle='-', linewidth='0.5', color='green')\n",
    "plt.grid(which='minor', linestyle=':', linewidth='0.5', color='black')\n",
    "plt.show()"
   ]
  },
  {
   "cell_type": "markdown",
   "metadata": {},
   "source": [
    "## Using metrics for evaluation"
   ]
  },
  {
   "cell_type": "code",
   "execution_count": 6,
   "metadata": {},
   "outputs": [
    {
     "name": "stdout",
     "output_type": "stream",
     "text": [
      "0.12955353337279196\n",
      "99.06011888495634\n"
     ]
    }
   ],
   "source": [
    "print (model.score(test_X, test_Y))\n",
    "rmse = sqrt(mean_squared_error(test_Y,model.predict(test_X)))\n",
    "print (rmse)"
   ]
  },
  {
   "cell_type": "markdown",
   "metadata": {},
   "source": [
    "# LASSO REGRESSION"
   ]
  },
  {
   "cell_type": "markdown",
   "metadata": {},
   "source": [
    "## Training data"
   ]
  },
  {
   "cell_type": "code",
   "execution_count": 7,
   "metadata": {},
   "outputs": [
    {
     "name": "stdout",
     "output_type": "stream",
     "text": [
      "[ -0.          14.09712624 -10.83494377 -10.04092813  21.90049161\n",
      "   4.0077211   -0.           0.18044691  -0.           0.22458199\n",
      "   4.84319027   0.2520688   -0.          -1.47356477   6.56347355\n",
      "  -5.96792183 -18.38360086  -1.34817991  -3.56035421   0.1141191\n",
      "   0.06531724   2.07118744   0.17760311   0.        ]\n"
     ]
    }
   ],
   "source": [
    "model = Lasso()\n",
    "model.fit(train_X, train_Y)\n",
    "\n",
    "print (model.coef_)"
   ]
  },
  {
   "cell_type": "markdown",
   "metadata": {},
   "source": [
    "## Predicting and Plotting"
   ]
  },
  {
   "cell_type": "code",
   "execution_count": 8,
   "metadata": {},
   "outputs": [
    {
     "data": {
      "image/png": "[encoded data removed]",
      "text/plain": [
       "<Figure size 720x576 with 1 Axes>"
      ]
     },
     "metadata": {
      "needs_background": "light"
     },
     "output_type": "display_data"
    }
   ],
   "source": [
    "df_res = pd.DataFrame({'Actual': test_Y, 'Predicted': model.predict(test_X)})\n",
    "df_res1 = df_res.head(10)\n",
    "\n",
    "df_res1.plot (kind='bar',figsize=(10,8))\n",
    "plt.grid(which='major', linestyle='-', linewidth='0.5', color='green')\n",
    "plt.grid(which='minor', linestyle=':', linewidth='0.5', color='black')\n",
    "plt.show()"
   ]
  },
  {
   "cell_type": "markdown",
   "metadata": {},
   "source": [
    "## Using metrics for evaluation"
   ]
  },
  {
   "cell_type": "code",
   "execution_count": 9,
   "metadata": {},
   "outputs": [
    {
     "name": "stdout",
     "output_type": "stream",
     "text": [
      "0.12514436407157092\n",
      "99.31069209067543\n"
     ]
    }
   ],
   "source": [
    "print (model.score(test_X, test_Y))\n",
    "rmse = sqrt(mean_squared_error(test_Y,model.predict(test_X)))\n",
    "print (rmse)"
   ]
  },
  {
   "cell_type": "markdown",
   "metadata": {},
   "source": [
    "# Elastic Net Regression"
   ]
  },
  {
   "cell_type": "markdown",
   "metadata": {},
   "source": [
    "## Training data"
   ]
  },
  {
   "cell_type": "code",
   "execution_count": 10,
   "metadata": {},
   "outputs": [
    {
     "name": "stdout",
     "output_type": "stream",
     "text": [
      "[-0.          9.49456113 -1.13098305 -4.7394203   9.84033211  4.13176336\n",
      " -1.27771654  0.36444019 -1.63687406  0.22071737  2.88007339  0.20773298\n",
      " -1.44514066 -2.16045136  2.62240537 -4.96599688 -5.56562037 -1.78095682\n",
      " -2.15241045  0.01740616 -0.15691785  1.94154817  0.16891013 -0.0739592 ]\n"
     ]
    }
   ],
   "source": [
    "model = ElasticNet()\n",
    "model.fit(train_X, train_Y)\n",
    "\n",
    "print (model.coef_)"
   ]
  },
  {
   "cell_type": "markdown",
   "metadata": {},
   "source": [
    "## Predicting and Plotting"
   ]
  },
  {
   "cell_type": "code",
   "execution_count": 11,
   "metadata": {},
   "outputs": [
    {
     "data": {
      "image/png": "[encoded data removed]",
      "text/plain": [
       "<Figure size 720x576 with 1 Axes>"
      ]
     },
     "metadata": {
      "needs_background": "light"
     },
     "output_type": "display_data"
    }
   ],
   "source": [
    "df_res = pd.DataFrame({'Actual': test_Y, 'Predicted': model.predict(test_X)})\n",
    "df_res1 = df_res.head(10)\n",
    "\n",
    "df_res1.plot (kind='bar',figsize=(10,8))\n",
    "plt.grid(which='major', linestyle='-', linewidth='0.5', color='green')\n",
    "plt.grid(which='minor', linestyle=':', linewidth='0.5', color='black')\n",
    "plt.show()"
   ]
  },
  {
   "cell_type": "markdown",
   "metadata": {},
   "source": [
    "## Using metrics for evaluation"
   ]
  },
  {
   "cell_type": "code",
   "execution_count": 12,
   "metadata": {},
   "outputs": [
    {
     "name": "stdout",
     "output_type": "stream",
     "text": [
      "0.1076416635579447\n",
      "100.2991965488795\n"
     ]
    }
   ],
   "source": [
    "print (model.score(test_X, test_Y))\n",
    "rmse = sqrt(mean_squared_error(test_Y,model.predict(test_X)))\n",
    "print (rmse)"
   ]
  },
  {
   "cell_type": "code",
   "execution_count": null,
   "metadata": {},
   "outputs": [],
   "source": []
  }
 ],
 "metadata": {
  "kernelspec": {
   "display_name": "Python 3",
   "language": "python",
   "name": "python3"
  },
  "language_info": {
   "codemirror_mode": {
    "name": "ipython",
    "version": 3
   },
   "file_extension": ".py",
   "mimetype": "text/x-python",
   "name": "python",
   "nbconvert_exporter": "python",
   "pygments_lexer": "ipython3",
   "version": "3.7.4"
  }
 },
 "nbformat": 4,
 "nbformat_minor": 2
}
